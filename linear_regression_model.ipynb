{
  "nbformat": 4,
  "nbformat_minor": 0,
  "metadata": {
    "colab": {
      "provenance": [],
      "gpuType": "T4",
      "authorship_tag": "ABX9TyNImyxrZo/TWtWzva0g28h4",
      "include_colab_link": true
    },
    "kernelspec": {
      "name": "python3",
      "display_name": "Python 3"
    },
    "language_info": {
      "name": "python"
    },
    "accelerator": "GPU"
  },
  "cells": [
    {
      "cell_type": "markdown",
      "metadata": {
        "id": "view-in-github",
        "colab_type": "text"
      },
      "source": [
        "<a href=\"https://colab.research.google.com/github/gps-prasad/pytorch/blob/main/linear_regression_model.ipynb\" target=\"_parent\"><img src=\"https://colab.research.google.com/assets/colab-badge.svg\" alt=\"Open In Colab\"/></a>"
      ]
    },
    {
      "cell_type": "code",
      "source": [
        "import torch\n",
        "import torch.nn as nn\n",
        "import matplotlib.pyplot as plt\n",
        "\n",
        "# Check for CUDA availability\n",
        "device = \"cuda\" if torch.cuda.is_available() else \"cpu\"\n",
        "print(f\"Using device: {device}\")"
      ],
      "metadata": {
        "id": "S2r2zFVLB3zl",
        "colab": {
          "base_uri": "https://localhost:8080/"
        },
        "outputId": "45843765-ae38-4dac-eb33-32ee0220d8df"
      },
      "execution_count": 91,
      "outputs": [
        {
          "output_type": "stream",
          "name": "stdout",
          "text": [
            "Using device: cuda\n"
          ]
        }
      ]
    },
    {
      "cell_type": "code",
      "source": [
        "weight = 0.7\n",
        "bias = 0.3\n",
        "X = torch.arange(start=1,end=10,step=0.2).unsqueeze(dim=1).to(device)\n",
        "y = weight * X + bias"
      ],
      "metadata": {
        "id": "kn64h1p5B73q"
      },
      "execution_count": 92,
      "outputs": []
    },
    {
      "cell_type": "code",
      "source": [
        "train_split = int(0.8 * len(X))\n",
        "X_train, y_train = X[:train_split], y[:train_split]\n",
        "X_test, y_test = X[train_split:], y[train_split:]"
      ],
      "metadata": {
        "id": "5VOE6WW8DWr4"
      },
      "execution_count": 93,
      "outputs": []
    },
    {
      "cell_type": "code",
      "source": [
        "def plot_predictions(train_data=X_train,\n",
        "                     train_labels=y_train,\n",
        "                     test_data=X_test,\n",
        "                     test_labels=y_test,\n",
        "                     predictions=None):\n",
        "  \"\"\"\n",
        "  Plots training data, test data and compares predictions.\n",
        "  \"\"\"\n",
        "  plt.figure(figsize=(10, 7))\n",
        "\n",
        "  # Plot training data in blue\n",
        "  plt.scatter(train_data, train_labels, c=\"b\", s=4, label=\"Training data\")\n",
        "\n",
        "  # Plot test data in green\n",
        "  plt.scatter(test_data, test_labels, c=\"g\", s=4, label=\"Testing data\")\n",
        "\n",
        "  if predictions is not None:\n",
        "    # Plot the predictions in red (predictions were made on the test data)\n",
        "    plt.scatter(test_data, predictions, c=\"r\", s=4, label=\"Predictions\")\n",
        "\n",
        "  # Show the legend\n",
        "  plt.legend(prop={\"size\": 10});"
      ],
      "metadata": {
        "id": "BH4Oyok9EFOW"
      },
      "execution_count": 94,
      "outputs": []
    },
    {
      "cell_type": "code",
      "source": [
        "class LinearRegressionModel(nn.Module):\n",
        "  def __init__(self):\n",
        "    super(LinearRegressionModel,self).__init__()\n",
        "    self.weights = nn.Parameter(torch.randn(1,requires_grad=True))\n",
        "    self.bias = nn.Parameter(torch.randn(1,requires_grad=True))\n",
        "\n",
        "  def forward(self,X):\n",
        "    return self.weights * X + self.bias"
      ],
      "metadata": {
        "id": "-4xnY7iaEJPk"
      },
      "execution_count": 95,
      "outputs": []
    },
    {
      "cell_type": "code",
      "source": [
        "torch.manual_seed(42)\n",
        "\n",
        "model_0 = LinearRegressionModel().to(device)\n",
        "# List named parameters\n",
        "model_0.state_dict()"
      ],
      "metadata": {
        "colab": {
          "base_uri": "https://localhost:8080/"
        },
        "id": "Mq9P3Y8nHrhZ",
        "outputId": "e4ca6ce7-9dcf-4510-daf9-a94eedf9a4c0"
      },
      "execution_count": 96,
      "outputs": [
        {
          "output_type": "execute_result",
          "data": {
            "text/plain": [
              "OrderedDict([('weights', tensor([0.3367], device='cuda:0')),\n",
              "             ('bias', tensor([0.1288], device='cuda:0'))])"
            ]
          },
          "metadata": {},
          "execution_count": 96
        }
      ]
    },
    {
      "cell_type": "code",
      "source": [
        "with torch.inference_mode():\n",
        "  Y = model_0(X_test).cpu().numpy()\n",
        "  plot_predictions(train_data=X_train.cpu(),\n",
        "                     train_labels=y_train.cpu(),\n",
        "                     test_data=X_test.cpu(),\n",
        "                     test_labels=y_test.cpu(),\n",
        "                     predictions=Y)"
      ],
      "metadata": {
        "colab": {
          "base_uri": "https://localhost:8080/",
          "height": 599
        },
        "id": "7ljEPalPJ4W9",
        "outputId": "ae7de3f3-9396-4ebf-cde8-d5f7eab23d6e"
      },
      "execution_count": 97,
      "outputs": [
        {
          "output_type": "display_data",
          "data": {
            "text/plain": [
              "<Figure size 1000x700 with 1 Axes>"
            ],
            "image/png": "[encoded data removed]"
          },
          "metadata": {}
        }
      ]
    },
    {
      "cell_type": "code",
      "source": [
        "loss_fn = nn.L1Loss()\n",
        "optimizer = torch.optim.SGD(params=model_0.parameters(),lr=0.01)\n",
        "epochs = 100\n",
        "\n",
        "train_loss = []\n",
        "test__loss = []\n",
        "\n",
        "for epoch in range(epochs):\n",
        "\n",
        "  model_0.train()\n",
        "\n",
        "  Y_pred = model_0(X_train)\n",
        "\n",
        "  loss = loss_fn(Y_pred,y_train)\n",
        "\n",
        "  optimizer.zero_grad()\n",
        "\n",
        "  loss.backward()\n",
        "\n",
        "  optimizer.step()\n",
        "\n",
        "  model_0.eval()\n",
        "\n",
        "  with torch.inference_mode():\n",
        "    Y_pred = model_0(X_test)\n",
        "\n",
        "    test_loss = loss_fn(Y_pred,y_test)\n",
        "\n",
        "    if epoch%10 == 0:\n",
        "      train_loss.append(loss.detach().cpu().numpy())\n",
        "      test__loss.append(test_loss.detach().cpu().numpy())\n",
        "      print(f\"Epoch: {epoch+1} | train loss: {loss} | test loss: {test_loss}\")\n",
        "\n"
      ],
      "metadata": {
        "id": "lpKOUpolMvMe",
        "colab": {
          "base_uri": "https://localhost:8080/"
        },
        "outputId": "939c6475-6c20-4315-b5d5-391ac6d9bd05"
      },
      "execution_count": 98,
      "outputs": [
        {
          "output_type": "stream",
          "name": "stdout",
          "text": [
            "Epoch: 1 | train loss: 1.8060839176177979 | test loss: 3.025977373123169\n",
            "Epoch: 11 | train loss: 0.08580593764781952 | test loss: 0.3318008780479431\n",
            "Epoch: 21 | train loss: 0.03602743148803711 | test loss: 0.4235800802707672\n",
            "Epoch: 31 | train loss: 0.06480477005243301 | test loss: 0.3588031232357025\n",
            "Epoch: 41 | train loss: 0.03885968402028084 | test loss: 0.40624889731407166\n",
            "Epoch: 51 | train loss: 0.07613704353570938 | test loss: 0.3294723331928253\n",
            "Epoch: 61 | train loss: 0.05019187927246094 | test loss: 0.37691763043403625\n",
            "Epoch: 71 | train loss: 0.03491372615098953 | test loss: 0.404696524143219\n",
            "Epoch: 81 | train loss: 0.03491372615098953 | test loss: 0.404696524143219\n",
            "Epoch: 91 | train loss: 0.03491372615098953 | test loss: 0.404696524143219\n"
          ]
        }
      ]
    },
    {
      "cell_type": "code",
      "source": [
        "list(model_0.parameters())"
      ],
      "metadata": {
        "colab": {
          "base_uri": "https://localhost:8080/"
        },
        "id": "Ruyj-XTdnacF",
        "outputId": "b17eb8bf-08dc-4486-f8ce-d7104d621b9b"
      },
      "execution_count": 99,
      "outputs": [
        {
          "output_type": "execute_result",
          "data": {
            "text/plain": [
              "[Parameter containing:\n",
              " tensor([0.7055], device='cuda:0', requires_grad=True),\n",
              " Parameter containing:\n",
              " tensor([0.2405], device='cuda:0', requires_grad=True)]"
            ]
          },
          "metadata": {},
          "execution_count": 99
        }
      ]
    },
    {
      "cell_type": "code",
      "source": [
        "with torch.inference_mode():\n",
        "  Y = model_0(X_test).cpu().numpy()\n",
        "  plot_predictions(train_data=X_train.cpu(),\n",
        "                     train_labels=y_train.cpu(),\n",
        "                     test_data=X_test.cpu(),\n",
        "                     test_labels=y_test.cpu(),\n",
        "                     predictions=Y)"
      ],
      "metadata": {
        "colab": {
          "base_uri": "https://localhost:8080/",
          "height": 599
        },
        "id": "gjeXzUeVnPKP",
        "outputId": "7c7d1448-9b7f-45d5-cf1f-ddd8a7e32b24"
      },
      "execution_count": 100,
      "outputs": [
        {
          "output_type": "display_data",
          "data": {
            "text/plain": [
              "<Figure size 1000x700 with 1 Axes>"
            ],
            "image/png": "[encoded data removed]"
          },
          "metadata": {}
        }
      ]
    }
  ]
}